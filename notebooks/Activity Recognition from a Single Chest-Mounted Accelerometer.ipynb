{
 "cells": [
  {
   "cell_type": "code",
   "execution_count": 118,
   "metadata": {},
   "outputs": [],
   "source": [
    "import os\n",
    "import pandas as pd"
   ]
  },
  {
   "cell_type": "code",
   "execution_count": 119,
   "metadata": {
    "scrolled": true
   },
   "outputs": [],
   "source": [
    "baseDir = '../data/'"
   ]
  },
  {
   "cell_type": "code",
   "execution_count": null,
   "metadata": {
    "scrolled": true
   },
   "outputs": [],
   "source": []
  },
  {
   "cell_type": "code",
   "execution_count": 120,
   "metadata": {},
   "outputs": [],
   "source": [
    "li = []\n",
    "for fileName in os.listdir(baseDir)[:2]:\n",
    "    currentFilePath = os.path.join(baseDir, fileName)\n",
    "    df1 = pd.read_csv(currentFilePath, header=None)\n",
    "    df1[0] = fileName\n",
    "    li.append(df1)"
   ]
  },
  {
   "cell_type": "code",
   "execution_count": 121,
   "metadata": {},
   "outputs": [
    {
     "data": {
      "text/plain": [
       "array([1, 2, 3, 4, 5, 6, 7, 0], dtype=int64)"
      ]
     },
     "execution_count": 121,
     "metadata": {},
     "output_type": "execute_result"
    }
   ],
   "source": [
    "df = pd.concat(li)\n",
    "df[4].unique()"
   ]
  },
  {
   "cell_type": "code",
   "execution_count": 122,
   "metadata": {},
   "outputs": [
    {
     "data": {
      "text/plain": [
       "7    117179\n",
       "1     77827\n",
       "4     49035\n",
       "3     34654\n",
       "6     10017\n",
       "5      7101\n",
       "2      4418\n",
       "0       271\n",
       "Name: 4, dtype: int64"
      ]
     },
     "execution_count": 122,
     "metadata": {},
     "output_type": "execute_result"
    }
   ],
   "source": [
    "df[4].value_counts()"
   ]
  },
  {
   "cell_type": "code",
   "execution_count": 123,
   "metadata": {},
   "outputs": [
    {
     "data": {
      "text/plain": [
       "array([1, 2, 3, 4, 5, 6, 7], dtype=int64)"
      ]
     },
     "execution_count": 123,
     "metadata": {},
     "output_type": "execute_result"
    }
   ],
   "source": [
    "df = df[df[4] != 0]\n",
    "df[4].unique()"
   ]
  },
  {
   "cell_type": "code",
   "execution_count": 124,
   "metadata": {},
   "outputs": [
    {
     "data": {
      "text/html": [
       "<div>\n",
       "<style scoped>\n",
       "    .dataframe tbody tr th:only-of-type {\n",
       "        vertical-align: middle;\n",
       "    }\n",
       "\n",
       "    .dataframe tbody tr th {\n",
       "        vertical-align: top;\n",
       "    }\n",
       "\n",
       "    .dataframe thead th {\n",
       "        text-align: right;\n",
       "    }\n",
       "</style>\n",
       "<table border=\"1\" class=\"dataframe\">\n",
       "  <thead>\n",
       "    <tr style=\"text-align: right;\">\n",
       "      <th></th>\n",
       "      <th>0</th>\n",
       "      <th>1</th>\n",
       "      <th>2</th>\n",
       "      <th>3</th>\n",
       "      <th>4</th>\n",
       "    </tr>\n",
       "  </thead>\n",
       "  <tbody>\n",
       "    <tr>\n",
       "      <th>137995</th>\n",
       "      <td>2.csv</td>\n",
       "      <td>2150</td>\n",
       "      <td>2316</td>\n",
       "      <td>1979</td>\n",
       "      <td>7</td>\n",
       "    </tr>\n",
       "    <tr>\n",
       "      <th>137996</th>\n",
       "      <td>2.csv</td>\n",
       "      <td>2142</td>\n",
       "      <td>2314</td>\n",
       "      <td>1985</td>\n",
       "      <td>7</td>\n",
       "    </tr>\n",
       "    <tr>\n",
       "      <th>137997</th>\n",
       "      <td>2.csv</td>\n",
       "      <td>2139</td>\n",
       "      <td>2301</td>\n",
       "      <td>1992</td>\n",
       "      <td>7</td>\n",
       "    </tr>\n",
       "    <tr>\n",
       "      <th>137998</th>\n",
       "      <td>2.csv</td>\n",
       "      <td>2136</td>\n",
       "      <td>2315</td>\n",
       "      <td>1990</td>\n",
       "      <td>7</td>\n",
       "    </tr>\n",
       "    <tr>\n",
       "      <th>137999</th>\n",
       "      <td>2.csv</td>\n",
       "      <td>2134</td>\n",
       "      <td>2320</td>\n",
       "      <td>1982</td>\n",
       "      <td>7</td>\n",
       "    </tr>\n",
       "  </tbody>\n",
       "</table>\n",
       "</div>"
      ],
      "text/plain": [
       "            0     1     2     3  4\n",
       "137995  2.csv  2150  2316  1979  7\n",
       "137996  2.csv  2142  2314  1985  7\n",
       "137997  2.csv  2139  2301  1992  7\n",
       "137998  2.csv  2136  2315  1990  7\n",
       "137999  2.csv  2134  2320  1982  7"
      ]
     },
     "execution_count": 124,
     "metadata": {},
     "output_type": "execute_result"
    }
   ],
   "source": [
    "df.tail()"
   ]
  },
  {
   "cell_type": "code",
   "execution_count": 125,
   "metadata": {},
   "outputs": [],
   "source": [
    "df.rename(columns = {0:'filename', 1:'x_acc', 2:'y_acc', 3:'z_acc', 4:'label'}, inplace = True) \n"
   ]
  },
  {
   "cell_type": "code",
   "execution_count": 126,
   "metadata": {},
   "outputs": [],
   "source": [
    "from sklearn import linear_model\n",
    "from sklearn import model_selection\n",
    "from sklearn import utils\n",
    "from sklearn import metrics\n",
    "from sklearn.metrics import roc_auc_score\n",
    "from sklearn import tree\n",
    "from sklearn.feature_selection import RFECV\n",
    "from sklearn import feature_selection\n",
    "from sklearn import naive_bayes\n",
    "from sklearn import neighbors\n",
    "from sklearn.neighbors import KNeighborsClassifier\n",
    "from sklearn.preprocessing import MinMaxScaler, RobustScaler\n",
    "from sklearn.model_selection import GridSearchCV\n",
    "\n",
    "min_max_scaler = MinMaxScaler()\n",
    "robust_scaler = RobustScaler()\n",
    "\n",
    "df[df.columns[1:-1]] = robust_scaler.fit_transform(df[df.columns[1:-1]])\n",
    "\n",
    "\n",
    "\n",
    "def modelstats1(Xtrain,Xtest,ytrain,ytest):\n",
    "    stats=[]\n",
    "#     modelnames=[\"DecisionTree\",\"KNN\",\"NB\"]\n",
    "    modelnames = [\"KNN\"]\n",
    "    models=list()\n",
    "#     models.append(linear_model.LogisticRegression())\n",
    "#     models.append(tree.DecisionTreeClassifier())\n",
    "    models.append(neighbors.KNeighborsClassifier())\n",
    "#     models.append(naive_bayes.GaussianNB())\n",
    "    for name,model in zip(modelnames,models):\n",
    "        if name==\"KNN\":\n",
    "            for k in range(17,30,4):\n",
    "                model = neighbors.KNeighborsClassifier(n_neighbors=k)\n",
    "#             grid={\"n_neighbors\":k}\n",
    "#             grid_obj = model_selection.GridSearchCV(estimator=model,param_grid=grid,scoring=\"f1_macro\")\n",
    "#             grid_fit =grid_obj.fit(Xtrain,ytrain)\n",
    "#             model = grid_fit.best_estimator_\n",
    "                model.fit(Xtrain,ytrain)\n",
    "                trainprediction=model.predict(Xtrain)\n",
    "                testprediction=model.predict(Xtest)\n",
    "                scores=list()\n",
    "                scores.append(name+\"-train\")\n",
    "                scores.append(metrics.accuracy_score(ytrain,trainprediction))\n",
    "                stats.append(scores)\n",
    "                scores=list()\n",
    "                scores.append(name+\"-test\")\n",
    "                scores.append(metrics.accuracy_score(ytest,testprediction))\n",
    "                stats.append(scores)\n",
    "                print(\"for k = \",k,\"training accuracy = \",metrics.accuracy_score(ytrain,trainprediction),\"testing accuracy = \",metrics.accuracy_score(ytest,testprediction))\n",
    "#             name=name+\"(\"+str(grid_fit.best_params_[\"n_neighbors\"])+\")\"\n",
    "#             print(grid_fit.best_params_)\n",
    "        else:\n",
    "            model.fit(Xtrain,ytrain)\n",
    "            \n",
    "        trainprediction=model.predict(Xtrain)\n",
    "        testprediction=model.predict(Xtest)\n",
    "        scores=list()\n",
    "        scores.append(name+\"-train\")\n",
    "        scores.append(metrics.accuracy_score(ytrain,trainprediction))\n",
    "#         scores.append(metrics.precision_score(ytrain,trainprediction,average='micro'))\n",
    "#         scores.append(metrics.recall_score(ytrain,trainprediction,average='micro'))\n",
    "#         scores.append(metrics.roc_auc_score(ytrain,trainprediction))\n",
    "        stats.append(scores)\n",
    "        scores=list()\n",
    "        scores.append(name+\"-test\")\n",
    "        scores.append(metrics.accuracy_score(ytest,testprediction))\n",
    "#         scores.append(metrics.precision_score(ytest,testprediction,average='micro'))\n",
    "#         scores.append(metrics.recall_score(ytest,testprediction,average='micro'))\n",
    "#         scores.append(metrics.roc_auc_score(ytest,testprediction))\n",
    "        stats.append(scores)\n",
    "    \n",
    "#     colnames=[\"MODELNAME\",\"ACCURACY\",\"PRECISION\",\"RECALL\",\"AUC\"]\n",
    "        colnames=[\"MODELNAME\",\"ACCURACY\"]\n",
    "#         break\n",
    "    return pd.DataFrame(stats,columns=colnames)"
   ]
  },
  {
   "cell_type": "code",
   "execution_count": 127,
   "metadata": {},
   "outputs": [],
   "source": [
    "X = df.drop(['filename','label'], axis=1)\n",
    "y = df['label']"
   ]
  },
  {
   "cell_type": "code",
   "execution_count": 128,
   "metadata": {
    "scrolled": false
   },
   "outputs": [
    {
     "name": "stdout",
     "output_type": "stream",
     "text": [
      "for k =  17 training accuracy =  0.8233021350298105 testing accuracy =  0.8076340200176528\n",
      "for k =  21 training accuracy =  0.8216950338074143 testing accuracy =  0.8081003214148916\n",
      "for k =  25 training accuracy =  0.8202419811477867 testing accuracy =  0.8090329242093693\n",
      "for k =  29 training accuracy =  0.8187889284881591 testing accuracy =  0.8085999300547904\n"
     ]
    },
    {
     "data": {
      "text/html": [
       "<div>\n",
       "<style scoped>\n",
       "    .dataframe tbody tr th:only-of-type {\n",
       "        vertical-align: middle;\n",
       "    }\n",
       "\n",
       "    .dataframe tbody tr th {\n",
       "        vertical-align: top;\n",
       "    }\n",
       "\n",
       "    .dataframe thead th {\n",
       "        text-align: right;\n",
       "    }\n",
       "</style>\n",
       "<table border=\"1\" class=\"dataframe\">\n",
       "  <thead>\n",
       "    <tr style=\"text-align: right;\">\n",
       "      <th></th>\n",
       "      <th>MODELNAME</th>\n",
       "      <th>ACCURACY</th>\n",
       "    </tr>\n",
       "  </thead>\n",
       "  <tbody>\n",
       "    <tr>\n",
       "      <th>0</th>\n",
       "      <td>KNN-train</td>\n",
       "      <td>0.823302</td>\n",
       "    </tr>\n",
       "    <tr>\n",
       "      <th>1</th>\n",
       "      <td>KNN-test</td>\n",
       "      <td>0.807634</td>\n",
       "    </tr>\n",
       "    <tr>\n",
       "      <th>2</th>\n",
       "      <td>KNN-train</td>\n",
       "      <td>0.821695</td>\n",
       "    </tr>\n",
       "    <tr>\n",
       "      <th>3</th>\n",
       "      <td>KNN-test</td>\n",
       "      <td>0.808100</td>\n",
       "    </tr>\n",
       "    <tr>\n",
       "      <th>4</th>\n",
       "      <td>KNN-train</td>\n",
       "      <td>0.820242</td>\n",
       "    </tr>\n",
       "    <tr>\n",
       "      <th>5</th>\n",
       "      <td>KNN-test</td>\n",
       "      <td>0.809033</td>\n",
       "    </tr>\n",
       "    <tr>\n",
       "      <th>6</th>\n",
       "      <td>KNN-train</td>\n",
       "      <td>0.818789</td>\n",
       "    </tr>\n",
       "    <tr>\n",
       "      <th>7</th>\n",
       "      <td>KNN-test</td>\n",
       "      <td>0.808600</td>\n",
       "    </tr>\n",
       "    <tr>\n",
       "      <th>8</th>\n",
       "      <td>KNN-train</td>\n",
       "      <td>0.818789</td>\n",
       "    </tr>\n",
       "    <tr>\n",
       "      <th>9</th>\n",
       "      <td>KNN-test</td>\n",
       "      <td>0.808600</td>\n",
       "    </tr>\n",
       "  </tbody>\n",
       "</table>\n",
       "</div>"
      ],
      "text/plain": [
       "   MODELNAME  ACCURACY\n",
       "0  KNN-train  0.823302\n",
       "1   KNN-test  0.807634\n",
       "2  KNN-train  0.821695\n",
       "3   KNN-test  0.808100\n",
       "4  KNN-train  0.820242\n",
       "5   KNN-test  0.809033\n",
       "6  KNN-train  0.818789\n",
       "7   KNN-test  0.808600\n",
       "8  KNN-train  0.818789\n",
       "9   KNN-test  0.808600"
      ]
     },
     "execution_count": 128,
     "metadata": {},
     "output_type": "execute_result"
    }
   ],
   "source": [
    "Xtrain,Xtest,ytrain,ytest=model_selection.train_test_split(X,y,test_size=.2,random_state=42)\n",
    "modelstats1(Xtrain,Xtest,ytrain,ytest)"
   ]
  },
  {
   "cell_type": "code",
   "execution_count": 129,
   "metadata": {},
   "outputs": [
    {
     "name": "stdout",
     "output_type": "stream",
     "text": [
      "K DecisionTreeClassifier()\n",
      "N KNeighborsClassifier()\n",
      "N GaussianNB()\n"
     ]
    }
   ],
   "source": [
    "modelnames=\"KNN\"\n",
    "models=list()\n",
    "#     models.append(linear_model.LogisticRegression())\n",
    "models.append(tree.DecisionTreeClassifier())\n",
    "models.append(neighbors.KNeighborsClassifier())\n",
    "models.append(naive_bayes.GaussianNB())\n",
    "for name,model in zip(modelnames,models):\n",
    "    print(name, model)"
   ]
  },
  {
   "cell_type": "code",
   "execution_count": 130,
   "metadata": {},
   "outputs": [],
   "source": [
    "def printscores(ytest,predicted):\n",
    "    confmatrix=metrics.confusion_matrix(ytest,predicted)\n",
    "    print(\"Confusion matrix:\\n\",confmatrix)\n",
    "    print(\"Accuracy:\\n\",metrics.accuracy_score(ytest,predicted))"
   ]
  },
  {
   "cell_type": "code",
   "execution_count": 131,
   "metadata": {},
   "outputs": [
    {
     "name": "stdout",
     "output_type": "stream",
     "text": [
      "Confusion matrix:\n",
      " [[11463    89     5    90    10     4    71]\n",
      " [  278   212    14    99     4     0    75]\n",
      " [    7     1  2727   688    91    52  1616]\n",
      " [  106     2   383  5833    60    19   953]\n",
      " [   18     0   329   355   199     8   147]\n",
      " [    5     1    72   319    25   424   631]\n",
      " [  101    10   732   839    40   232 15596]]\n",
      "Accuracy:\n",
      " 0.809459309426002\n"
     ]
    }
   ],
   "source": [
    "Xtrain,Xtest,ytrain,ytest=model_selection.train_test_split(X,y,test_size=.15,random_state=11)\n",
    "model = neighbors.KNeighborsClassifier(n_neighbors=17)\n",
    "model.fit(Xtrain,ytrain)\n",
    "prediction=model.predict(Xtest)\n",
    "\n",
    "printscores(ytest,prediction)"
   ]
  },
  {
   "cell_type": "code",
   "execution_count": 132,
   "metadata": {},
   "outputs": [],
   "source": [
    "def modelstats1(Xtrain,Xtest,ytrain,ytest):\n",
    "    stats=[]\n",
    "    modelnames = [\"KNN\"]\n",
    "    models=list()\n",
    "    models.append(neighbors.KNeighborsClassifier())\n",
    "    for name,model in zip(modelnames,models):\n",
    "        if name==\"KNN\":\n",
    "            for k in range(17,30,4):\n",
    "                model = neighbors.KNeighborsClassifier(n_neighbors=k)\n",
    "                model.fit(Xtrain,ytrain)\n",
    "                trainprediction=model.predict(Xtrain)\n",
    "                testprediction=model.predict(Xtest)\n",
    "                scores=list()\n",
    "                scores.append(name+\"-train\")\n",
    "                scores.append(metrics.accuracy_score(ytrain,trainprediction))\n",
    "                stats.append(scores)\n",
    "                scores=list()\n",
    "                scores.append(name+\"-test\")\n",
    "                scores.append(metrics.accuracy_score(ytest,testprediction))\n",
    "                stats.append(scores)\n",
    "                print(\"for k = \",k,\"training accuracy = \",metrics.accuracy_score(ytrain,trainprediction),\"testing accuracy = \",metrics.accuracy_score(ytest,testprediction))\n",
    "            \n",
    "        colnames=[\"MODELNAME\",\"ACCURACY\"]\n",
    "    return pd.DataFrame(stats,columns=colnames)"
   ]
  },
  {
   "cell_type": "code",
   "execution_count": 133,
   "metadata": {},
   "outputs": [
    {
     "name": "stdout",
     "output_type": "stream",
     "text": [
      "for k =  17 training accuracy =  0.8233021350298105 testing accuracy =  0.8076340200176528\n",
      "for k =  21 training accuracy =  0.8216950338074143 testing accuracy =  0.8081003214148916\n",
      "for k =  25 training accuracy =  0.8202419811477867 testing accuracy =  0.8090329242093693\n",
      "for k =  29 training accuracy =  0.8187889284881591 testing accuracy =  0.8085999300547904\n"
     ]
    },
    {
     "data": {
      "text/html": [
       "<div>\n",
       "<style scoped>\n",
       "    .dataframe tbody tr th:only-of-type {\n",
       "        vertical-align: middle;\n",
       "    }\n",
       "\n",
       "    .dataframe tbody tr th {\n",
       "        vertical-align: top;\n",
       "    }\n",
       "\n",
       "    .dataframe thead th {\n",
       "        text-align: right;\n",
       "    }\n",
       "</style>\n",
       "<table border=\"1\" class=\"dataframe\">\n",
       "  <thead>\n",
       "    <tr style=\"text-align: right;\">\n",
       "      <th></th>\n",
       "      <th>MODELNAME</th>\n",
       "      <th>ACCURACY</th>\n",
       "    </tr>\n",
       "  </thead>\n",
       "  <tbody>\n",
       "    <tr>\n",
       "      <th>0</th>\n",
       "      <td>KNN-train</td>\n",
       "      <td>0.823302</td>\n",
       "    </tr>\n",
       "    <tr>\n",
       "      <th>1</th>\n",
       "      <td>KNN-test</td>\n",
       "      <td>0.807634</td>\n",
       "    </tr>\n",
       "    <tr>\n",
       "      <th>2</th>\n",
       "      <td>KNN-train</td>\n",
       "      <td>0.821695</td>\n",
       "    </tr>\n",
       "    <tr>\n",
       "      <th>3</th>\n",
       "      <td>KNN-test</td>\n",
       "      <td>0.808100</td>\n",
       "    </tr>\n",
       "    <tr>\n",
       "      <th>4</th>\n",
       "      <td>KNN-train</td>\n",
       "      <td>0.820242</td>\n",
       "    </tr>\n",
       "    <tr>\n",
       "      <th>5</th>\n",
       "      <td>KNN-test</td>\n",
       "      <td>0.809033</td>\n",
       "    </tr>\n",
       "    <tr>\n",
       "      <th>6</th>\n",
       "      <td>KNN-train</td>\n",
       "      <td>0.818789</td>\n",
       "    </tr>\n",
       "    <tr>\n",
       "      <th>7</th>\n",
       "      <td>KNN-test</td>\n",
       "      <td>0.808600</td>\n",
       "    </tr>\n",
       "  </tbody>\n",
       "</table>\n",
       "</div>"
      ],
      "text/plain": [
       "   MODELNAME  ACCURACY\n",
       "0  KNN-train  0.823302\n",
       "1   KNN-test  0.807634\n",
       "2  KNN-train  0.821695\n",
       "3   KNN-test  0.808100\n",
       "4  KNN-train  0.820242\n",
       "5   KNN-test  0.809033\n",
       "6  KNN-train  0.818789\n",
       "7   KNN-test  0.808600"
      ]
     },
     "execution_count": 133,
     "metadata": {},
     "output_type": "execute_result"
    }
   ],
   "source": [
    "Xtrain,Xtest,ytrain,ytest=model_selection.train_test_split(X,y,test_size=.2,random_state=42)\n",
    "modelstats1(Xtrain,Xtest,ytrain,ytest)"
   ]
  },
  {
   "cell_type": "code",
   "execution_count": null,
   "metadata": {},
   "outputs": [],
   "source": [
    "leaf_size = list(range(48,50))\n",
    "n_neighbors = list(range(28,30))\n",
    "p=[1,2]\n",
    "knn = KNeighborsClassifier()\n",
    "#convert to dictionary\n",
    "hyperparameters = dict(leaf_size=leaf_size, n_neighbors=n_neighbors, p=p)\n",
    "#Making model\n",
    "clf = GridSearchCV(knn, hyperparameters, cv=10)\n",
    "best_model = clf.fit(Xtrain,ytrain)\n",
    "#Best Hyperparameters Value\n",
    "print('Best leaf_size:', best_model.best_estimator_.get_params()['leaf_size'])\n",
    "print('Best p:', best_model.best_estimator_.get_params()['p'])\n",
    "print('Best n_neighbors:', best_model.best_estimator_.get_params()['n_neighbors'])\n",
    "#Predict testing set\n",
    "y_pred = best_model.predict(Xtest)\n",
    "#Check performance using accuracy\n",
    "print(accuracy_score(ytest, ypred))\n",
    "#Check performance using ROC\n",
    "roc_auc_score(y_test, y_pred)"
   ]
  },
  {
   "cell_type": "code",
   "execution_count": null,
   "metadata": {},
   "outputs": [],
   "source": []
  },
  {
   "cell_type": "code",
   "execution_count": null,
   "metadata": {},
   "outputs": [],
   "source": []
  },
  {
   "cell_type": "code",
   "execution_count": null,
   "metadata": {},
   "outputs": [],
   "source": []
  }
 ],
 "metadata": {
  "kernelspec": {
   "display_name": "Python 3",
   "language": "python",
   "name": "python3"
  },
  "language_info": {
   "codemirror_mode": {
    "name": "ipython",
    "version": 3
   },
   "file_extension": ".py",
   "mimetype": "text/x-python",
   "name": "python",
   "nbconvert_exporter": "python",
   "pygments_lexer": "ipython3",
   "version": "3.7.9"
  }
 },
 "nbformat": 4,
 "nbformat_minor": 2
}