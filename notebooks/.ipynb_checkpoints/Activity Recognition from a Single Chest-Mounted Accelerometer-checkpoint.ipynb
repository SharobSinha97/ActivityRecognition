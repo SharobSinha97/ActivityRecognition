{
 "cells": [
  {
   "cell_type": "code",
   "execution_count": 1,
   "metadata": {},
   "outputs": [],
   "source": [
    "import os\n",
    "import pandas as pd"
   ]
  },
  {
   "cell_type": "code",
   "execution_count": 2,
   "metadata": {
    "scrolled": true
   },
   "outputs": [],
   "source": [
    "baseDir = '../data/'"
   ]
  },
  {
   "cell_type": "code",
   "execution_count": 8,
   "metadata": {
    "scrolled": true
   },
   "outputs": [],
   "source": [
    "df = pd.read_csv(os.path.join(baseDir, '1.csv'), header=None)"
   ]
  },
  {
   "cell_type": "code",
   "execution_count": 10,
   "metadata": {},
   "outputs": [
    {
     "data": {
      "text/plain": [
       "array([0.0000e+00, 1.0000e+00, 2.0000e+00, ..., 1.6248e+05, 1.6249e+05,\n",
       "       1.6250e+05])"
      ]
     },
     "execution_count": 10,
     "metadata": {},
     "output_type": "execute_result"
    }
   ],
   "source": [
    "df[0].unique()"
   ]
  },
  {
   "cell_type": "code",
   "execution_count": 11,
   "metadata": {},
   "outputs": [
    {
     "data": {
      "text/plain": [
       "array([1, 2, 3, 4, 5, 6, 7, 0], dtype=int64)"
      ]
     },
     "execution_count": 11,
     "metadata": {},
     "output_type": "execute_result"
    }
   ],
   "source": [
    "df[4].unique()"
   ]
  },
  {
   "cell_type": "code",
   "execution_count": 12,
   "metadata": {},
   "outputs": [
    {
     "data": {
      "text/plain": [
       "7    83748\n",
       "1    33677\n",
       "4    26860\n",
       "3    11179\n",
       "5     3191\n",
       "6     2917\n",
       "2      928\n",
       "0        1\n",
       "Name: 4, dtype: int64"
      ]
     },
     "execution_count": 12,
     "metadata": {},
     "output_type": "execute_result"
    }
   ],
   "source": [
    "df[4].value_counts()"
   ]
  },
  {
   "cell_type": "code",
   "execution_count": 13,
   "metadata": {},
   "outputs": [
    {
     "data": {
      "text/plain": [
       "array([1, 2, 3, 4, 5, 6, 7], dtype=int64)"
      ]
     },
     "execution_count": 13,
     "metadata": {},
     "output_type": "execute_result"
    }
   ],
   "source": [
    "df = df[df[4] != 0]\n",
    "df[4].unique()"
   ]
  },
  {
   "cell_type": "code",
   "execution_count": 14,
   "metadata": {},
   "outputs": [
    {
     "data": {
      "text/html": [
       "<div>\n",
       "<style scoped>\n",
       "    .dataframe tbody tr th:only-of-type {\n",
       "        vertical-align: middle;\n",
       "    }\n",
       "\n",
       "    .dataframe tbody tr th {\n",
       "        vertical-align: top;\n",
       "    }\n",
       "\n",
       "    .dataframe thead th {\n",
       "        text-align: right;\n",
       "    }\n",
       "</style>\n",
       "<table border=\"1\" class=\"dataframe\">\n",
       "  <thead>\n",
       "    <tr style=\"text-align: right;\">\n",
       "      <th></th>\n",
       "      <th>0</th>\n",
       "      <th>1</th>\n",
       "      <th>2</th>\n",
       "      <th>3</th>\n",
       "      <th>4</th>\n",
       "    </tr>\n",
       "  </thead>\n",
       "  <tbody>\n",
       "    <tr>\n",
       "      <th>162495</th>\n",
       "      <td>162500.0</td>\n",
       "      <td>1926</td>\n",
       "      <td>2382</td>\n",
       "      <td>2072</td>\n",
       "      <td>7</td>\n",
       "    </tr>\n",
       "    <tr>\n",
       "      <th>162496</th>\n",
       "      <td>162500.0</td>\n",
       "      <td>1927</td>\n",
       "      <td>2388</td>\n",
       "      <td>2074</td>\n",
       "      <td>7</td>\n",
       "    </tr>\n",
       "    <tr>\n",
       "      <th>162497</th>\n",
       "      <td>162500.0</td>\n",
       "      <td>1930</td>\n",
       "      <td>2383</td>\n",
       "      <td>2074</td>\n",
       "      <td>7</td>\n",
       "    </tr>\n",
       "    <tr>\n",
       "      <th>162498</th>\n",
       "      <td>162500.0</td>\n",
       "      <td>1929</td>\n",
       "      <td>2385</td>\n",
       "      <td>2076</td>\n",
       "      <td>7</td>\n",
       "    </tr>\n",
       "    <tr>\n",
       "      <th>162499</th>\n",
       "      <td>162500.0</td>\n",
       "      <td>1926</td>\n",
       "      <td>2385</td>\n",
       "      <td>2078</td>\n",
       "      <td>7</td>\n",
       "    </tr>\n",
       "  </tbody>\n",
       "</table>\n",
       "</div>"
      ],
      "text/plain": [
       "               0     1     2     3  4\n",
       "162495  162500.0  1926  2382  2072  7\n",
       "162496  162500.0  1927  2388  2074  7\n",
       "162497  162500.0  1930  2383  2074  7\n",
       "162498  162500.0  1929  2385  2076  7\n",
       "162499  162500.0  1926  2385  2078  7"
      ]
     },
     "execution_count": 14,
     "metadata": {},
     "output_type": "execute_result"
    }
   ],
   "source": [
    "df.tail()"
   ]
  },
  {
   "cell_type": "code",
   "execution_count": 15,
   "metadata": {},
   "outputs": [
    {
     "name": "stderr",
     "output_type": "stream",
     "text": [
      "D:\\Users\\suraj_mandal\\.conda\\envs\\ActivityDetection\\lib\\site-packages\\pandas\\core\\frame.py:4446: SettingWithCopyWarning: \n",
      "A value is trying to be set on a copy of a slice from a DataFrame\n",
      "\n",
      "See the caveats in the documentation: https://pandas.pydata.org/pandas-docs/stable/user_guide/indexing.html#returning-a-view-versus-a-copy\n",
      "  errors=errors,\n"
     ]
    },
    {
     "data": {
      "text/html": [
       "<div>\n",
       "<style scoped>\n",
       "    .dataframe tbody tr th:only-of-type {\n",
       "        vertical-align: middle;\n",
       "    }\n",
       "\n",
       "    .dataframe tbody tr th {\n",
       "        vertical-align: top;\n",
       "    }\n",
       "\n",
       "    .dataframe thead th {\n",
       "        text-align: right;\n",
       "    }\n",
       "</style>\n",
       "<table border=\"1\" class=\"dataframe\">\n",
       "  <thead>\n",
       "    <tr style=\"text-align: right;\">\n",
       "      <th></th>\n",
       "      <th>filename</th>\n",
       "      <th>x_acc</th>\n",
       "      <th>y_acc</th>\n",
       "      <th>z_acc</th>\n",
       "      <th>label</th>\n",
       "    </tr>\n",
       "  </thead>\n",
       "  <tbody>\n",
       "    <tr>\n",
       "      <th>0</th>\n",
       "      <td>0.0</td>\n",
       "      <td>1502</td>\n",
       "      <td>2215</td>\n",
       "      <td>2153</td>\n",
       "      <td>1</td>\n",
       "    </tr>\n",
       "    <tr>\n",
       "      <th>1</th>\n",
       "      <td>1.0</td>\n",
       "      <td>1667</td>\n",
       "      <td>2072</td>\n",
       "      <td>2047</td>\n",
       "      <td>1</td>\n",
       "    </tr>\n",
       "    <tr>\n",
       "      <th>2</th>\n",
       "      <td>2.0</td>\n",
       "      <td>1611</td>\n",
       "      <td>1957</td>\n",
       "      <td>1906</td>\n",
       "      <td>1</td>\n",
       "    </tr>\n",
       "    <tr>\n",
       "      <th>3</th>\n",
       "      <td>3.0</td>\n",
       "      <td>1601</td>\n",
       "      <td>1939</td>\n",
       "      <td>1831</td>\n",
       "      <td>1</td>\n",
       "    </tr>\n",
       "    <tr>\n",
       "      <th>4</th>\n",
       "      <td>4.0</td>\n",
       "      <td>1643</td>\n",
       "      <td>1965</td>\n",
       "      <td>1879</td>\n",
       "      <td>1</td>\n",
       "    </tr>\n",
       "    <tr>\n",
       "      <th>...</th>\n",
       "      <td>...</td>\n",
       "      <td>...</td>\n",
       "      <td>...</td>\n",
       "      <td>...</td>\n",
       "      <td>...</td>\n",
       "    </tr>\n",
       "    <tr>\n",
       "      <th>162495</th>\n",
       "      <td>162500.0</td>\n",
       "      <td>1926</td>\n",
       "      <td>2382</td>\n",
       "      <td>2072</td>\n",
       "      <td>7</td>\n",
       "    </tr>\n",
       "    <tr>\n",
       "      <th>162496</th>\n",
       "      <td>162500.0</td>\n",
       "      <td>1927</td>\n",
       "      <td>2388</td>\n",
       "      <td>2074</td>\n",
       "      <td>7</td>\n",
       "    </tr>\n",
       "    <tr>\n",
       "      <th>162497</th>\n",
       "      <td>162500.0</td>\n",
       "      <td>1930</td>\n",
       "      <td>2383</td>\n",
       "      <td>2074</td>\n",
       "      <td>7</td>\n",
       "    </tr>\n",
       "    <tr>\n",
       "      <th>162498</th>\n",
       "      <td>162500.0</td>\n",
       "      <td>1929</td>\n",
       "      <td>2385</td>\n",
       "      <td>2076</td>\n",
       "      <td>7</td>\n",
       "    </tr>\n",
       "    <tr>\n",
       "      <th>162499</th>\n",
       "      <td>162500.0</td>\n",
       "      <td>1926</td>\n",
       "      <td>2385</td>\n",
       "      <td>2078</td>\n",
       "      <td>7</td>\n",
       "    </tr>\n",
       "  </tbody>\n",
       "</table>\n",
       "<p>162500 rows × 5 columns</p>\n",
       "</div>"
      ],
      "text/plain": [
       "        filename  x_acc  y_acc  z_acc  label\n",
       "0            0.0   1502   2215   2153      1\n",
       "1            1.0   1667   2072   2047      1\n",
       "2            2.0   1611   1957   1906      1\n",
       "3            3.0   1601   1939   1831      1\n",
       "4            4.0   1643   1965   1879      1\n",
       "...          ...    ...    ...    ...    ...\n",
       "162495  162500.0   1926   2382   2072      7\n",
       "162496  162500.0   1927   2388   2074      7\n",
       "162497  162500.0   1930   2383   2074      7\n",
       "162498  162500.0   1929   2385   2076      7\n",
       "162499  162500.0   1926   2385   2078      7\n",
       "\n",
       "[162500 rows x 5 columns]"
      ]
     },
     "execution_count": 15,
     "metadata": {},
     "output_type": "execute_result"
    }
   ],
   "source": [
    "df.rename(columns = {0:'filename', 1:'x_acc', 2:'y_acc', 3:'z_acc', 4:'label'}, inplace = True) \n",
    "df"
   ]
  },
  {
   "cell_type": "code",
   "execution_count": 16,
   "metadata": {},
   "outputs": [],
   "source": [
    "from sklearn import linear_model\n",
    "from sklearn import model_selection\n",
    "from sklearn import utils\n",
    "from sklearn import metrics\n",
    "from sklearn import tree\n",
    "from sklearn.feature_selection import RFECV\n",
    "from sklearn import feature_selection\n",
    "from sklearn import naive_bayes\n",
    "from sklearn import neighbors\n",
    "\n",
    "def modelstats1(Xtrain,Xtest,ytrain,ytest):\n",
    "    stats=[]\n",
    "#     modelnames=[\"DecisionTree\",\"KNN\",\"NB\"]\n",
    "    modelnames = [\"KNN\"]\n",
    "    models=list()\n",
    "#     models.append(linear_model.LogisticRegression())\n",
    "#     models.append(tree.DecisionTreeClassifier())\n",
    "    models.append(neighbors.KNeighborsClassifier())\n",
    "#     models.append(naive_bayes.GaussianNB())\n",
    "    for name,model in zip(modelnames,models):\n",
    "        if name==\"KNN\":\n",
    "            for k in range(5,17,4):\n",
    "                model = neighbors.KNeighborsClassifier(n_neighbors=k)\n",
    "#             grid={\"n_neighbors\":k}\n",
    "#             grid_obj = model_selection.GridSearchCV(estimator=model,param_grid=grid,scoring=\"f1_macro\")\n",
    "#             grid_fit =grid_obj.fit(Xtrain,ytrain)\n",
    "#             model = grid_fit.best_estimator_\n",
    "                model.fit(Xtrain,ytrain)\n",
    "                trainprediction=model.predict(Xtrain)\n",
    "                testprediction=model.predict(Xtest)\n",
    "                scores=list()\n",
    "                scores.append(name+\"-train\")\n",
    "                scores.append(metrics.accuracy_score(ytrain,trainprediction))\n",
    "                stats.append(scores)\n",
    "                scores=list()\n",
    "                scores.append(name+\"-test\")\n",
    "                scores.append(metrics.accuracy_score(ytest,testprediction))\n",
    "                stats.append(scores)\n",
    "                print(\"for k = \",k,\"training accuracy = \",metrics.accuracy_score(ytrain,trainprediction),\"testing accuracy = \",metrics.accuracy_score(ytest,testprediction))\n",
    "#             name=name+\"(\"+str(grid_fit.best_params_[\"n_neighbors\"])+\")\"\n",
    "#             print(grid_fit.best_params_)\n",
    "        else:\n",
    "            model.fit(Xtrain,ytrain)\n",
    "            \n",
    "        trainprediction=model.predict(Xtrain)\n",
    "        testprediction=model.predict(Xtest)\n",
    "        scores=list()\n",
    "        scores.append(name+\"-train\")\n",
    "        scores.append(metrics.accuracy_score(ytrain,trainprediction))\n",
    "#         scores.append(metrics.precision_score(ytrain,trainprediction,average='micro'))\n",
    "#         scores.append(metrics.recall_score(ytrain,trainprediction,average='micro'))\n",
    "#         scores.append(metrics.roc_auc_score(ytrain,trainprediction))\n",
    "        stats.append(scores)\n",
    "        scores=list()\n",
    "        scores.append(name+\"-test\")\n",
    "        scores.append(metrics.accuracy_score(ytest,testprediction))\n",
    "#         scores.append(metrics.precision_score(ytest,testprediction,average='micro'))\n",
    "#         scores.append(metrics.recall_score(ytest,testprediction,average='micro'))\n",
    "#         scores.append(metrics.roc_auc_score(ytest,testprediction))\n",
    "        stats.append(scores)\n",
    "    \n",
    "#     colnames=[\"MODELNAME\",\"ACCURACY\",\"PRECISION\",\"RECALL\",\"AUC\"]\n",
    "        colnames=[\"MODELNAME\",\"ACCURACY\"]\n",
    "#         break\n",
    "    return pd.DataFrame(stats,columns=colnames)"
   ]
  },
  {
   "cell_type": "code",
   "execution_count": 17,
   "metadata": {},
   "outputs": [],
   "source": [
    "X = df.drop(['filename','label'], axis=1)\n",
    "y = df['label']"
   ]
  },
  {
   "cell_type": "code",
   "execution_count": null,
   "metadata": {
    "scrolled": false
   },
   "outputs": [],
   "source": [
    "Xtrain,Xtest,ytrain,ytest=model_selection.train_test_split(X,y,test_size=.2,random_state=42)\n",
    "modelstats1(Xtrain,Xtest,ytrain,ytest)"
   ]
  },
  {
   "cell_type": "code",
   "execution_count": 64,
   "metadata": {},
   "outputs": [
    {
     "name": "stdout",
     "output_type": "stream",
     "text": [
      "DecisionTree DecisionTreeClassifier(class_weight=None, criterion='gini', max_depth=None,\n",
      "            max_features=None, max_leaf_nodes=None,\n",
      "            min_impurity_decrease=0.0, min_impurity_split=None,\n",
      "            min_samples_leaf=1, min_samples_split=2,\n",
      "            min_weight_fraction_leaf=0.0, presort=False, random_state=None,\n",
      "            splitter='best')\n",
      "KNN KNeighborsClassifier(algorithm='auto', leaf_size=30, metric='minkowski',\n",
      "           metric_params=None, n_jobs=None, n_neighbors=5, p=2,\n",
      "           weights='uniform')\n",
      "NB GaussianNB(priors=None, var_smoothing=1e-09)\n"
     ]
    }
   ],
   "source": [
    "modelnames=\"KNN\"\n",
    "models=list()\n",
    "#     models.append(linear_model.LogisticRegression())\n",
    "models.append(tree.DecisionTreeClassifier())\n",
    "models.append(neighbors.KNeighborsClassifier())\n",
    "models.append(naive_bayes.GaussianNB())\n",
    "for name,model in zip(modelnames,models):\n",
    "    print(name, model)"
   ]
  },
  {
   "cell_type": "code",
   "execution_count": 100,
   "metadata": {},
   "outputs": [],
   "source": [
    "def printscores(ytest,predicted):\n",
    "    confmatrix=metrics.confusion_matrix(ytest,predicted)\n",
    "    print(\"Confusion matrix:\\n\",confmatrix)\n",
    "    print(\"Accuracy:\\n\",metrics.accuracy_score(ytest,predicted))"
   ]
  },
  {
   "cell_type": "code",
   "execution_count": 101,
   "metadata": {},
   "outputs": [
    {
     "name": "stdout",
     "output_type": "stream",
     "text": [
      "Confusion matrix:\n",
      " [[83442   526   936  2839    74    27  3814]\n",
      " [ 2797  1317   400  1441    17    17  1156]\n",
      " [ 1729   129 15337  7305   568   370  7002]\n",
      " [ 3669   177  3154 39644   187   182  6348]\n",
      " [  645    11  1506  3238   940   107  1272]\n",
      " [  310    22   905  1396   227  1500  2747]\n",
      " [ 3524   177  3661  6374   178   751 74382]]\n",
      "Accuracy:\n",
      " 0.7507080287163275\n"
     ]
    }
   ],
   "source": [
    "Xtrain,Xtest,ytrain,ytest=model_selection.train_test_split(X,y,test_size=.15,random_state=11)\n",
    "model = neighbors.KNeighborsClassifier(n_neighbors=17)\n",
    "model.fit(Xtrain,ytrain)\n",
    "prediction=model.predict(Xtest)\n",
    "\n",
    "printscores(ytest,prediction)"
   ]
  },
  {
   "cell_type": "code",
   "execution_count": 105,
   "metadata": {},
   "outputs": [],
   "source": [
    "def modelstats1(Xtrain,Xtest,ytrain,ytest):\n",
    "    stats=[]\n",
    "    modelnames = [\"KNN\"]\n",
    "    models=list()\n",
    "    models.append(neighbors.KNeighborsClassifier())\n",
    "    for name,model in zip(modelnames,models):\n",
    "        if name==\"KNN\":\n",
    "            for k in range(17,30,4):\n",
    "                model = neighbors.KNeighborsClassifier(n_neighbors=k)\n",
    "                model.fit(Xtrain,ytrain)\n",
    "                trainprediction=model.predict(Xtrain)\n",
    "                testprediction=model.predict(Xtest)\n",
    "                scores=list()\n",
    "                scores.append(name+\"-train\")\n",
    "                scores.append(metrics.accuracy_score(ytrain,trainprediction))\n",
    "                stats.append(scores)\n",
    "                scores=list()\n",
    "                scores.append(name+\"-test\")\n",
    "                scores.append(metrics.accuracy_score(ytest,testprediction))\n",
    "                stats.append(scores)\n",
    "                print(\"for k = \",k,\"training accuracy = \",metrics.accuracy_score(ytrain,trainprediction),\"testing accuracy = \",metrics.accuracy_score(ytest,testprediction))\n",
    "            \n",
    "        colnames=[\"MODELNAME\",\"ACCURACY\"]\n",
    "    return pd.DataFrame(stats,columns=colnames)"
   ]
  },
  {
   "cell_type": "code",
   "execution_count": 106,
   "metadata": {},
   "outputs": [
    {
     "name": "stdout",
     "output_type": "stream",
     "text": [
      "for k =  17 training accuracy =  0.7675934537981113 testing accuracy =  0.7490666500275586\n",
      "for k =  21 training accuracy =  0.7655577589417507 testing accuracy =  0.7512557326927277\n",
      "for k =  25 training accuracy =  0.7640966344088328 testing accuracy =  0.7521786832225793\n",
      "for k =  29 training accuracy =  0.7630553881892 testing accuracy =  0.7526596574423611\n"
     ]
    },
    {
     "data": {
      "text/html": [
       "<div>\n",
       "<style scoped>\n",
       "    .dataframe tbody tr th:only-of-type {\n",
       "        vertical-align: middle;\n",
       "    }\n",
       "\n",
       "    .dataframe tbody tr th {\n",
       "        vertical-align: top;\n",
       "    }\n",
       "\n",
       "    .dataframe thead th {\n",
       "        text-align: right;\n",
       "    }\n",
       "</style>\n",
       "<table border=\"1\" class=\"dataframe\">\n",
       "  <thead>\n",
       "    <tr style=\"text-align: right;\">\n",
       "      <th></th>\n",
       "      <th>MODELNAME</th>\n",
       "      <th>ACCURACY</th>\n",
       "    </tr>\n",
       "  </thead>\n",
       "  <tbody>\n",
       "    <tr>\n",
       "      <th>0</th>\n",
       "      <td>KNN-train</td>\n",
       "      <td>0.767593</td>\n",
       "    </tr>\n",
       "    <tr>\n",
       "      <th>1</th>\n",
       "      <td>KNN-test</td>\n",
       "      <td>0.749067</td>\n",
       "    </tr>\n",
       "    <tr>\n",
       "      <th>2</th>\n",
       "      <td>KNN-train</td>\n",
       "      <td>0.765558</td>\n",
       "    </tr>\n",
       "    <tr>\n",
       "      <th>3</th>\n",
       "      <td>KNN-test</td>\n",
       "      <td>0.751256</td>\n",
       "    </tr>\n",
       "    <tr>\n",
       "      <th>4</th>\n",
       "      <td>KNN-train</td>\n",
       "      <td>0.764097</td>\n",
       "    </tr>\n",
       "    <tr>\n",
       "      <th>5</th>\n",
       "      <td>KNN-test</td>\n",
       "      <td>0.752179</td>\n",
       "    </tr>\n",
       "    <tr>\n",
       "      <th>6</th>\n",
       "      <td>KNN-train</td>\n",
       "      <td>0.763055</td>\n",
       "    </tr>\n",
       "    <tr>\n",
       "      <th>7</th>\n",
       "      <td>KNN-test</td>\n",
       "      <td>0.752660</td>\n",
       "    </tr>\n",
       "  </tbody>\n",
       "</table>\n",
       "</div>"
      ],
      "text/plain": [
       "   MODELNAME  ACCURACY\n",
       "0  KNN-train  0.767593\n",
       "1   KNN-test  0.749067\n",
       "2  KNN-train  0.765558\n",
       "3   KNN-test  0.751256\n",
       "4  KNN-train  0.764097\n",
       "5   KNN-test  0.752179\n",
       "6  KNN-train  0.763055\n",
       "7   KNN-test  0.752660"
      ]
     },
     "execution_count": 106,
     "metadata": {},
     "output_type": "execute_result"
    }
   ],
   "source": [
    "Xtrain,Xtest,ytrain,ytest=model_selection.train_test_split(X,y,test_size=.2,random_state=42)\n",
    "modelstats1(Xtrain,Xtest,ytrain,ytest)"
   ]
  },
  {
   "cell_type": "code",
   "execution_count": null,
   "metadata": {},
   "outputs": [],
   "source": []
  }
 ],
 "metadata": {
  "kernelspec": {
   "display_name": "Python 3",
   "language": "python",
   "name": "python3"
  },
  "language_info": {
   "codemirror_mode": {
    "name": "ipython",
    "version": 3
   },
   "file_extension": ".py",
   "mimetype": "text/x-python",
   "name": "python",
   "nbconvert_exporter": "python",
   "pygments_lexer": "ipython3",
   "version": "3.7.9"
  }
 },
 "nbformat": 4,
 "nbformat_minor": 2
}
